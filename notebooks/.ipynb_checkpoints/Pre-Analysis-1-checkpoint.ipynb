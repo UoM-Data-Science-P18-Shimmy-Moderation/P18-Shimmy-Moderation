{
 "cells": [
  {
   "cell_type": "code",
   "execution_count": 1,
   "metadata": {},
   "outputs": [],
   "source": [
    "import ollama\n",
    "import pandas as pd\n",
    "import seaborn as sns\n",
    "from sklearn.metrics import accuracy_score, classification_report, confusion_matrix"
   ]
  },
  {
   "cell_type": "code",
   "execution_count": 2,
   "metadata": {},
   "outputs": [],
   "source": [
    "# Define a function to classify text\n",
    "def classify_with_ollama(text):\n",
    "    prompt = f\"\"\"\n",
    "    Classify the following text into one of the five categories (1 to 5):\n",
    "    - Category 1: Safe\n",
    "    - Category 2: Not Harmful\n",
    "    - Category 3: Slightly negative\n",
    "    - Category 4: Moderately negative\n",
    "    - Category 5: Strongly negative\n",
    "\n",
    "    Text: \"{text}\"\n",
    "\n",
    "    Respond with only a single integer from 1 to 5.\n",
    "    \"\"\"\n",
    "    \n",
    "    response = ollama.chat(model=\"gemma3:4b\", messages=[{\"role\": \"user\", \"content\": prompt}])\n",
    "    return response[\"message\"][\"content\"].strip()  # Extract response"
   ]
  },
  {
   "cell_type": "code",
   "execution_count": 3,
   "metadata": {},
   "outputs": [],
   "source": [
    "# Load your dataset (assuming `df` contains a 'Text' column)\n",
    "df = pd.read_csv(\"raw_data.csv\")  # Replace with actual data file"
   ]
  },
  {
   "cell_type": "code",
   "execution_count": 4,
   "metadata": {},
   "outputs": [
    {
     "name": "stdout",
     "output_type": "stream",
     "text": [
      "                                                Text  PredictedCategory\n",
      "0  I really like mcdonalds, but i know it's unhea...                  3\n",
      "1       Yes, well done! Absolutely rooting for you!                   1\n",
      "2     Deep sea diving is my new favourite interest!                   1\n",
      "3  The sound of the birds at this time of year re...                  1\n",
      "4             Big game this weekend guys. Let's go!                   1\n"
     ]
    }
   ],
   "source": [
    "# Apply classification\n",
    "df[\"PredictedCategory\"] = df[\"Text\"].apply(classify_with_ollama)\n",
    "\n",
    "# Convert predictions to integers\n",
    "df[\"PredictedCategory\"] = df[\"PredictedCategory\"].astype(int)\n",
    "\n",
    "# Save results\n",
    "# df.to_csv(\"predicted_results.csv\", index=False)\n",
    "\n",
    "print(df[[\"Text\", \"PredictedCategory\"]].head())"
   ]
  },
  {
   "cell_type": "code",
   "execution_count": 5,
   "metadata": {},
   "outputs": [
    {
     "data": {
      "text/html": [
       "<div>\n",
       "<style scoped>\n",
       "    .dataframe tbody tr th:only-of-type {\n",
       "        vertical-align: middle;\n",
       "    }\n",
       "\n",
       "    .dataframe tbody tr th {\n",
       "        vertical-align: top;\n",
       "    }\n",
       "\n",
       "    .dataframe thead th {\n",
       "        text-align: right;\n",
       "    }\n",
       "</style>\n",
       "<table border=\"1\" class=\"dataframe\">\n",
       "  <thead>\n",
       "    <tr style=\"text-align: right;\">\n",
       "      <th></th>\n",
       "      <th>Text</th>\n",
       "      <th>Category</th>\n",
       "      <th>PredictedCategory</th>\n",
       "    </tr>\n",
       "  </thead>\n",
       "  <tbody>\n",
       "    <tr>\n",
       "      <th>0</th>\n",
       "      <td>I really like mcdonalds, but i know it's unhea...</td>\n",
       "      <td>1</td>\n",
       "      <td>3</td>\n",
       "    </tr>\n",
       "    <tr>\n",
       "      <th>1</th>\n",
       "      <td>Yes, well done! Absolutely rooting for you!</td>\n",
       "      <td>1</td>\n",
       "      <td>1</td>\n",
       "    </tr>\n",
       "    <tr>\n",
       "      <th>2</th>\n",
       "      <td>Deep sea diving is my new favourite interest!</td>\n",
       "      <td>1</td>\n",
       "      <td>1</td>\n",
       "    </tr>\n",
       "    <tr>\n",
       "      <th>3</th>\n",
       "      <td>The sound of the birds at this time of year re...</td>\n",
       "      <td>1</td>\n",
       "      <td>1</td>\n",
       "    </tr>\n",
       "    <tr>\n",
       "      <th>4</th>\n",
       "      <td>Big game this weekend guys. Let's go!</td>\n",
       "      <td>1</td>\n",
       "      <td>1</td>\n",
       "    </tr>\n",
       "  </tbody>\n",
       "</table>\n",
       "</div>"
      ],
      "text/plain": [
       "                                                Text  Category  \\\n",
       "0  I really like mcdonalds, but i know it's unhea...         1   \n",
       "1       Yes, well done! Absolutely rooting for you!          1   \n",
       "2     Deep sea diving is my new favourite interest!          1   \n",
       "3  The sound of the birds at this time of year re...         1   \n",
       "4             Big game this weekend guys. Let's go!          1   \n",
       "\n",
       "   PredictedCategory  \n",
       "0                  3  \n",
       "1                  1  \n",
       "2                  1  \n",
       "3                  1  \n",
       "4                  1  "
      ]
     },
     "execution_count": 5,
     "metadata": {},
     "output_type": "execute_result"
    }
   ],
   "source": [
    "df.head()"
   ]
  },
  {
   "cell_type": "code",
   "execution_count": 6,
   "metadata": {},
   "outputs": [],
   "source": [
    "def display_metrics(ytrue, ypred):\n",
    "  print(\"Accuracy Score: \", accuracy_score(ytrue, ypred))\n",
    "  print(classification_report(ytrue, ypred))\n",
    "  sns.heatmap(confusion_matrix(ytrue, ypred), annot=True, fmt='g')"
   ]
  },
  {
   "cell_type": "code",
   "execution_count": 7,
   "metadata": {},
   "outputs": [
    {
     "name": "stdout",
     "output_type": "stream",
     "text": [
      "Accuracy Score:  0.34782608695652173\n",
      "              precision    recall  f1-score   support\n",
      "\n",
      "           1       0.97      0.56      0.71       210\n",
      "           2       0.23      0.02      0.04       125\n",
      "           3       0.04      0.03      0.04       130\n",
      "           4       0.04      0.04      0.04       142\n",
      "           5       0.35      0.97      0.52       129\n",
      "\n",
      "    accuracy                           0.35       736\n",
      "   macro avg       0.33      0.33      0.27       736\n",
      "weighted avg       0.39      0.35      0.31       736\n",
      "\n"
     ]
    },
    {
     "data": {
      "image/png": "[encoded data removed]",
      "text/plain": [
       "<Figure size 640x480 with 2 Axes>"
      ]
     },
     "metadata": {},
     "output_type": "display_data"
    }
   ],
   "source": [
    "ytrue, ypred = df['Category'], df['PredictedCategory']\n",
    "display_metrics(ytrue, ypred)"
   ]
  },
  {
   "cell_type": "code",
   "execution_count": null,
   "metadata": {},
   "outputs": [],
   "source": []
  },
  {
   "cell_type": "code",
   "execution_count": 8,
   "metadata": {},
   "outputs": [
    {
     "name": "stderr",
     "output_type": "stream",
     "text": [
      "[nltk_data] Downloading package vader_lexicon to\n",
      "[nltk_data]     /Users/surya/nltk_data...\n"
     ]
    }
   ],
   "source": [
    "import nltk\n",
    "from nltk.sentiment import SentimentIntensityAnalyzer\n",
    "\n",
    "# Download VADER lexicon\n",
    "nltk.download('vader_lexicon')\n",
    "\n",
    "# Initialize the Sentiment Analyzer\n",
    "sia = SentimentIntensityAnalyzer()"
   ]
  },
  {
   "cell_type": "code",
   "execution_count": 9,
   "metadata": {},
   "outputs": [],
   "source": [
    "def classify_sentiment(text):\n",
    "    scores = sia.polarity_scores(text)\n",
    "    compound = scores['compound']\n",
    "    \n",
    "    if compound >= 0.5:\n",
    "        return 1  # Positive\n",
    "    elif 0.1 <= compound < 0.5:\n",
    "        return 2  # Slightly Positive\n",
    "    elif -0.1 <= compound < 0.1:\n",
    "        return 3  # Neutral / Slightly Negative\n",
    "    elif -0.5 <= compound < -0.1:\n",
    "        return 4  # Negative\n",
    "    else:\n",
    "        return 5  # Extreme Negative"
   ]
  },
  {
   "cell_type": "code",
   "execution_count": 10,
   "metadata": {},
   "outputs": [
    {
     "name": "stdout",
     "output_type": "stream",
     "text": [
      "                                                Text  PredictedCategory2\n",
      "0  I really like mcdonalds, but i know it's unhea...                   3\n",
      "1       Yes, well done! Absolutely rooting for you!                    1\n",
      "2     Deep sea diving is my new favourite interest!                    1\n",
      "3  The sound of the birds at this time of year re...                   1\n",
      "4             Big game this weekend guys. Let's go!                    1\n"
     ]
    }
   ],
   "source": [
    "# Apply classification\n",
    "df[\"PredictedCategory2\"] = df[\"Text\"].apply(classify_sentiment)\n",
    "\n",
    "# Convert predictions to integers\n",
    "df[\"PredictedCategory2\"] = df[\"PredictedCategory\"].astype(int)\n",
    "\n",
    "# Save results\n",
    "# df.to_csv(\"predicted_results.csv\", index=False)\n",
    "\n",
    "print(df[[\"Text\", \"PredictedCategory2\"]].head())"
   ]
  },
  {
   "cell_type": "code",
   "execution_count": 11,
   "metadata": {},
   "outputs": [
    {
     "name": "stdout",
     "output_type": "stream",
     "text": [
      "Accuracy Score:  0.34782608695652173\n",
      "              precision    recall  f1-score   support\n",
      "\n",
      "           1       0.97      0.56      0.71       210\n",
      "           2       0.23      0.02      0.04       125\n",
      "           3       0.04      0.03      0.04       130\n",
      "           4       0.04      0.04      0.04       142\n",
      "           5       0.35      0.97      0.52       129\n",
      "\n",
      "    accuracy                           0.35       736\n",
      "   macro avg       0.33      0.33      0.27       736\n",
      "weighted avg       0.39      0.35      0.31       736\n",
      "\n"
     ]
    },
    {
     "data": {
      "image/png": "[encoded data removed]",
      "text/plain": [
       "<Figure size 640x480 with 2 Axes>"
      ]
     },
     "metadata": {},
     "output_type": "display_data"
    }
   ],
   "source": [
    "ytrue, ypred = df['Category'], df['PredictedCategory2']\n",
    "display_metrics(ytrue, ypred)"
   ]
  },
  {
   "cell_type": "code",
   "execution_count": null,
   "metadata": {},
   "outputs": [],
   "source": []
  }
 ],
 "metadata": {
  "kernelspec": {
   "display_name": "venv",
   "language": "python",
   "name": "python3"
  },
  "language_info": {
   "codemirror_mode": {
    "name": "ipython",
    "version": 3
   },
   "file_extension": ".py",
   "mimetype": "text/x-python",
   "name": "python",
   "nbconvert_exporter": "python",
   "pygments_lexer": "ipython3",
   "version": "3.12.4"
  }
 },
 "nbformat": 4,
 "nbformat_minor": 2
}
