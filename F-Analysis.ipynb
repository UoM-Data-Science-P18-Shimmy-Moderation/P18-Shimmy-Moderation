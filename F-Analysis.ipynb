{
 "cells": [
  {
   "cell_type": "code",
   "execution_count": 1,
   "metadata": {},
   "outputs": [
    {
     "name": "stderr",
     "output_type": "stream",
     "text": [
      "/Users/surya/University/Shimmy/venv/lib/python3.12/site-packages/tqdm/auto.py:21: TqdmWarning: IProgress not found. Please update jupyter and ipywidgets. See https://ipywidgets.readthedocs.io/en/stable/user_install.html\n",
      "  from .autonotebook import tqdm as notebook_tqdm\n"
     ]
    }
   ],
   "source": [
    "import numpy as np\n",
    "import pandas as pd\n",
    "import matplotlib.pyplot as plt\n",
    "import seaborn as sns\n",
    "from sklearn.metrics import accuracy_score, classification_report, confusion_matrix\n",
    "import ollama\n",
    "from transformers import AutoModelForSequenceClassification\n",
    "from transformers import TFAutoModelForSequenceClassification\n",
    "from transformers import AutoTokenizer, AutoConfig\n",
    "import numpy as np\n",
    "from scipy.special import softmax\n",
    "from sklearn.feature_extraction.text import TfidfVectorizer\n",
    "from sklearn.decomposition import PCA\n",
    "from datasets import load_dataset\n",
    "from tqdm import tqdm\n",
    "import torch\n",
    "\n",
    "import warnings\n",
    "warnings.filterwarnings('ignore')\n"
   ]
  },
  {
   "cell_type": "markdown",
   "metadata": {},
   "source": [
    "## Loading Data"
   ]
  },
  {
   "cell_type": "code",
   "execution_count": 2,
   "metadata": {},
   "outputs": [],
   "source": [
    "data_path_1 = 'data/shimmy/raw_data.csv'\n",
    "data_path_2 = 'cardiffnlp/tweet_eval'\n",
    "shimmy_df = pd.read_csv(data_path_1)\n",
    "cdf_twitter_df = pd.DataFrame(load_dataset(data_path_2, 'sentiment', split='test'))"
   ]
  },
  {
   "cell_type": "code",
   "execution_count": 3,
   "metadata": {},
   "outputs": [
    {
     "data": {
      "text/plain": [
       "label\n",
       "2    335\n",
       "1    271\n",
       "0    130\n",
       "Name: count, dtype: int64"
      ]
     },
     "execution_count": 3,
     "metadata": {},
     "output_type": "execute_result"
    }
   ],
   "source": [
    "shimmy_df['label'] = shimmy_df['Category'].apply(lambda x: 2 if x in [1, 2] else (1 if x in [4, 5] else 0))\n",
    "shimmy_df['label'].value_counts()"
   ]
  },
  {
   "cell_type": "code",
   "execution_count": 4,
   "metadata": {},
   "outputs": [
    {
     "name": "stdout",
     "output_type": "stream",
     "text": [
      "Shimmy Data: \n",
      " label\n",
      "0    130\n",
      "1    271\n",
      "2    335\n",
      "Name: count, dtype: int64\n",
      "\n",
      "CDF Twitter: \n",
      " label\n",
      "0    3972\n",
      "1    5937\n",
      "2    2375\n",
      "Name: count, dtype: int64\n"
     ]
    }
   ],
   "source": [
    "print(\"Shimmy Data: \\n\", shimmy_df['label'].value_counts().sort_index())\n",
    "print()\n",
    "print(\"CDF Twitter: \\n\", cdf_twitter_df['label'].value_counts().sort_index())"
   ]
  },
  {
   "cell_type": "markdown",
   "metadata": {},
   "source": [
    "## Process Functions"
   ]
  },
  {
   "cell_type": "code",
   "execution_count": 5,
   "metadata": {},
   "outputs": [],
   "source": [
    "def preprocess(text):\n",
    "    new_text = []\n",
    "    for t in text.split(\" \"):\n",
    "        t = '@user' if t.startswith('@') and len(t) > 1 else t\n",
    "        t = 'http' if t.startswith('http') else t\n",
    "        new_text.append(t)\n",
    "    return \" \".join(new_text)"
   ]
  },
  {
   "cell_type": "code",
   "execution_count": 6,
   "metadata": {},
   "outputs": [],
   "source": [
    "def display_metrics(ytrue, ypred):\n",
    "  print(\"Accuracy Score: \", accuracy_score(ytrue, ypred))\n",
    "  print(classification_report(ytrue, ypred))\n",
    "  sns.heatmap(confusion_matrix(ytrue, ypred), annot=True, fmt='g')"
   ]
  },
  {
   "cell_type": "markdown",
   "metadata": {},
   "source": [
    "## Data Visualization"
   ]
  },
  {
   "cell_type": "markdown",
   "metadata": {},
   "source": [
    "##### Category Distribution"
   ]
  },
  {
   "cell_type": "code",
   "execution_count": 7,
   "metadata": {},
   "outputs": [
    {
     "data": {
      "text/plain": [
       "[<matplotlib.axis.XTick at 0x148979190>,\n",
       " <matplotlib.axis.XTick at 0x1489212e0>,\n",
       " <matplotlib.axis.XTick at 0x149068680>]"
      ]
     },
     "execution_count": 7,
     "metadata": {},
     "output_type": "execute_result"
    },
    {
     "data": {
      "image/png": "[encoded data removed]",
      "text/plain": [
       "<Figure size 1200x500 with 2 Axes>"
      ]
     },
     "metadata": {},
     "output_type": "display_data"
    }
   ],
   "source": [
    "sh_category_counts = shimmy_df[\"label\"].value_counts().sort_index()\n",
    "cdf_category_counts = cdf_twitter_df['label'].value_counts().sort_index()\n",
    "\n",
    "fig, axes = plt.subplots(1, 2, figsize=(12, 5))\n",
    "\n",
    "sns.barplot(x=sh_category_counts.index, y=sh_category_counts.values, palette=\"viridis\", ax=axes[0])\n",
    "axes[0].set_xlabel(\"Category\")\n",
    "axes[0].set_ylabel(\"Count\")\n",
    "axes[0].set_title(\"Distribution of Categories in the Shimmy Dataset\")\n",
    "axes[0].set_xticks(ticks=sh_category_counts.index)\n",
    "\n",
    "sns.barplot(x=cdf_category_counts.index, y=cdf_category_counts.values, palette='viridis', ax=axes[1])\n",
    "axes[1].set_xlabel(\"Category\")\n",
    "axes[1].set_ylabel(\"Count\")\n",
    "axes[1].set_title(\"Distribution of Categories in the CDF Dataset\")\n",
    "axes[1].set_xticks(ticks=cdf_category_counts.index)"
   ]
  },
  {
   "cell_type": "markdown",
   "metadata": {},
   "source": [
    "## RoBERT-A"
   ]
  },
  {
   "cell_type": "code",
   "execution_count": 8,
   "metadata": {},
   "outputs": [],
   "source": [
    "# MODEL = f\"cardiffnlp/twitter-roberta-base-sentiment-latest\"\n",
    "# tokenizer = AutoTokenizer.from_pretrained(MODEL)\n",
    "# config = AutoConfig.from_pretrained(MODEL)\n",
    "# model = AutoModelForSequenceClassification.from_pretrained(MODEL)\n",
    "# model.save_pretrained('latest-model')\n",
    "# tokenizer.save_pretrained('latest-tokenizer')"
   ]
  },
  {
   "cell_type": "code",
   "execution_count": 9,
   "metadata": {},
   "outputs": [],
   "source": [
    "device = torch.device(\"mps\") if torch.backends.mps.is_available() else torch.device(\"cpu\")"
   ]
  },
  {
   "cell_type": "code",
   "execution_count": 10,
   "metadata": {},
   "outputs": [],
   "source": [
    "model = AutoModelForSequenceClassification.from_pretrained('latest-model').to(device)\n",
    "tokenizer = AutoTokenizer.from_pretrained('latest-tokenizer')"
   ]
  },
  {
   "cell_type": "code",
   "execution_count": 11,
   "metadata": {},
   "outputs": [],
   "source": [
    "def get_sentiment(text):\n",
    "    text = preprocess(text)\n",
    "    encoded_input = tokenizer(text, return_tensors='pt').to(device)\n",
    "    with torch.no_grad():\n",
    "        output = model(**encoded_input)\n",
    "        # scores = output[0][0].detach().numpy()\n",
    "        scores = output[0][0].cpu().detach().numpy()\n",
    "        scores = softmax(scores)\n",
    "        predicted_category = np.argmax(scores)\n",
    "    return predicted_category"
   ]
  },
  {
   "cell_type": "code",
   "execution_count": 15,
   "metadata": {},
   "outputs": [],
   "source": [
    "shimmy_test, shimmy_label = shimmy_df['Text'], shimmy_df['label']\n",
    "cdf_df_mini = cdf_twitter_df.sample(1000, random_state=42)\n",
    "cdf_test, cdf_label = cdf_df_mini['text'], cdf_df_mini['label']\n",
    "\n",
    "shimmy_pred, cdf_pred = [], []"
   ]
  },
  {
   "cell_type": "code",
   "execution_count": 16,
   "metadata": {},
   "outputs": [
    {
     "name": "stdout",
     "output_type": "stream",
     "text": [
      "Model Run on Shimmy Data\n"
     ]
    },
    {
     "name": "stderr",
     "output_type": "stream",
     "text": [
      "Processing Texts: 100%|██████████| 736/736 [00:11<00:00, 61.41it/s]\n"
     ]
    },
    {
     "name": "stdout",
     "output_type": "stream",
     "text": [
      "Model Run on CDF Data\n"
     ]
    },
    {
     "name": "stderr",
     "output_type": "stream",
     "text": [
      "Processing Texts: 100%|██████████| 1000/1000 [00:17<00:00, 56.96it/s]\n"
     ]
    }
   ],
   "source": [
    "print(\"Model Run on Shimmy Data\")\n",
    "for text in tqdm(shimmy_test, desc='Processing Texts: '):\n",
    "    pred_category = get_sentiment(text)\n",
    "    shimmy_pred.append(pred_category)\n",
    "\n",
    "print(\"Model Run on CDF Data\")\n",
    "for text in tqdm(cdf_test, desc='Processing Texts: '):\n",
    "    pred_category = get_sentiment(text)\n",
    "    cdf_pred.append(pred_category)"
   ]
  },
  {
   "cell_type": "code",
   "execution_count": 17,
   "metadata": {},
   "outputs": [
    {
     "name": "stdout",
     "output_type": "stream",
     "text": [
      "Shimmy Data Metrics\n",
      "Accuracy Score:  0.3763586956521739\n",
      "              precision    recall  f1-score   support\n",
      "\n",
      "           0       0.26      0.98      0.41       130\n",
      "           1       0.27      0.11      0.16       271\n",
      "           2       0.92      0.36      0.51       335\n",
      "\n",
      "    accuracy                           0.38       736\n",
      "   macro avg       0.48      0.48      0.36       736\n",
      "weighted avg       0.56      0.38      0.36       736\n",
      "\n"
     ]
    },
    {
     "data": {
      "image/png": "[encoded data removed]",
      "text/plain": [
       "<Figure size 640x480 with 2 Axes>"
      ]
     },
     "metadata": {},
     "output_type": "display_data"
    }
   ],
   "source": [
    "print('Shimmy Data Metrics')\n",
    "display_metrics(shimmy_label, shimmy_pred)"
   ]
  },
  {
   "cell_type": "code",
   "execution_count": 18,
   "metadata": {},
   "outputs": [
    {
     "name": "stdout",
     "output_type": "stream",
     "text": [
      "CDF Data Metrics\n",
      "Accuracy Score:  0.7\n",
      "              precision    recall  f1-score   support\n",
      "\n",
      "           0       0.69      0.79      0.73       328\n",
      "           1       0.72      0.63      0.67       462\n",
      "           2       0.69      0.70      0.70       210\n",
      "\n",
      "    accuracy                           0.70      1000\n",
      "   macro avg       0.70      0.71      0.70      1000\n",
      "weighted avg       0.70      0.70      0.70      1000\n",
      "\n"
     ]
    },
    {
     "data": {
      "image/png": "[encoded data removed]",
      "text/plain": [
       "<Figure size 640x480 with 2 Axes>"
      ]
     },
     "metadata": {},
     "output_type": "display_data"
    }
   ],
   "source": [
    "print('CDF Data Metrics')\n",
    "display_metrics(cdf_label, cdf_pred)"
   ]
  },
  {
   "cell_type": "markdown",
   "metadata": {},
   "source": [
    "# XLM-RoBERT-a"
   ]
  },
  {
   "cell_type": "code",
   "execution_count": 19,
   "metadata": {},
   "outputs": [],
   "source": [
    "MODEL = f\"cardiffnlp/twitter-xlm-roberta-base-sentiment\"\n",
    "tokenizer = AutoTokenizer.from_pretrained(MODEL)\n",
    "config = AutoConfig.from_pretrained(MODEL)\n",
    "model = AutoModelForSequenceClassification.from_pretrained(MODEL).to(device)\n",
    "# model.save_pretrained('latest-model')\n",
    "# tokenizer.save_pretrained('latest-tokenizer')"
   ]
  },
  {
   "cell_type": "code",
   "execution_count": 20,
   "metadata": {},
   "outputs": [],
   "source": [
    "def get_sentiment(text):\n",
    "    text = preprocess(text)\n",
    "    encoded_input = tokenizer(text, return_tensors='pt').to(device)\n",
    "    with torch.no_grad():\n",
    "        output = model(**encoded_input)\n",
    "        # scores = output[0][0].detach().numpy()\n",
    "        scores = output[0][0].cpu().detach().numpy()\n",
    "        scores = softmax(scores)\n",
    "        predicted_category = np.argmax(scores)\n",
    "    return predicted_category"
   ]
  },
  {
   "cell_type": "code",
   "execution_count": 21,
   "metadata": {},
   "outputs": [
    {
     "name": "stdout",
     "output_type": "stream",
     "text": [
      "Model Run on Shimmy Data\n"
     ]
    },
    {
     "name": "stderr",
     "output_type": "stream",
     "text": [
      "Processing Texts: 100%|██████████| 736/736 [00:13<00:00, 55.26it/s]\n"
     ]
    },
    {
     "name": "stdout",
     "output_type": "stream",
     "text": [
      "Model Run on CDF Data\n"
     ]
    },
    {
     "name": "stderr",
     "output_type": "stream",
     "text": [
      "Processing Texts: 100%|██████████| 1000/1000 [00:17<00:00, 56.80it/s]\n"
     ]
    }
   ],
   "source": [
    "shimmy_pred, cdf_pred = [], []\n",
    "\n",
    "print(\"Model Run on Shimmy Data\")\n",
    "for text in tqdm(shimmy_test, desc='Processing Texts: '):\n",
    "    pred_category = get_sentiment(text)\n",
    "    shimmy_pred.append(pred_category)\n",
    "\n",
    "print(\"Model Run on CDF Data\")\n",
    "for text in tqdm(cdf_test, desc='Processing Texts: '):\n",
    "    pred_category = get_sentiment(text)\n",
    "    cdf_pred.append(pred_category)"
   ]
  },
  {
   "cell_type": "code",
   "execution_count": 22,
   "metadata": {},
   "outputs": [
    {
     "name": "stdout",
     "output_type": "stream",
     "text": [
      "Shimmy Data Metrics\n",
      "Accuracy Score:  0.360054347826087\n",
      "              precision    recall  f1-score   support\n",
      "\n",
      "           0       0.24      0.88      0.37       130\n",
      "           1       0.26      0.10      0.15       271\n",
      "           2       0.87      0.36      0.51       335\n",
      "\n",
      "    accuracy                           0.36       736\n",
      "   macro avg       0.45      0.45      0.34       736\n",
      "weighted avg       0.53      0.36      0.35       736\n",
      "\n"
     ]
    },
    {
     "data": {
      "image/png": "[encoded data removed]",
      "text/plain": [
       "<Figure size 640x480 with 2 Axes>"
      ]
     },
     "metadata": {},
     "output_type": "display_data"
    }
   ],
   "source": [
    "print('Shimmy Data Metrics')\n",
    "display_metrics(shimmy_label, shimmy_pred)"
   ]
  },
  {
   "cell_type": "code",
   "execution_count": 23,
   "metadata": {},
   "outputs": [
    {
     "name": "stdout",
     "output_type": "stream",
     "text": [
      "CDF Data Metrics\n",
      "Accuracy Score:  0.646\n",
      "              precision    recall  f1-score   support\n",
      "\n",
      "           0       0.61      0.88      0.72       328\n",
      "           1       0.71      0.49      0.58       462\n",
      "           2       0.64      0.62      0.63       210\n",
      "\n",
      "    accuracy                           0.65      1000\n",
      "   macro avg       0.65      0.66      0.64      1000\n",
      "weighted avg       0.66      0.65      0.64      1000\n",
      "\n"
     ]
    },
    {
     "data": {
      "image/png": "[encoded data removed]",
      "text/plain": [
       "<Figure size 640x480 with 2 Axes>"
      ]
     },
     "metadata": {},
     "output_type": "display_data"
    }
   ],
   "source": [
    "print('CDF Data Metrics')\n",
    "display_metrics(cdf_label, cdf_pred)"
   ]
  },
  {
   "cell_type": "markdown",
   "metadata": {},
   "source": [
    "# Gemma3"
   ]
  },
  {
   "cell_type": "code",
   "execution_count": 24,
   "metadata": {},
   "outputs": [],
   "source": [
    "def classify_with_ollama(text):\n",
    "    prompt = f\"\"\"\n",
    "    Classify the following text into one of the three categories (0, 1, 2):\n",
    "    - Category 0: Moderately or Strongly Negative\n",
    "    - Category 1: Neutral or Slightly Negative\n",
    "    - Category 2: Safe, Positive, Not harmful\n",
    "\n",
    "    Text: \"{text}\"\n",
    "\n",
    "    Respond with only a single integer from 0 to 2.\n",
    "    \"\"\"\n",
    "    \n",
    "    response = ollama.chat(model=\"gemma3:4b\", messages=[{\"role\": \"user\", \"content\": prompt}])\n",
    "    return response[\"message\"][\"content\"].strip() "
   ]
  },
  {
   "cell_type": "code",
   "execution_count": 25,
   "metadata": {},
   "outputs": [
    {
     "name": "stderr",
     "output_type": "stream",
     "text": [
      "100%|██████████| 736/736 [03:36<00:00,  3.40it/s]\n"
     ]
    }
   ],
   "source": [
    "tqdm.pandas()\n",
    "shimmy_pred = shimmy_df['Text'].progress_apply(classify_with_ollama)\n",
    "shimmy_pred = shimmy_pred.astype(int)"
   ]
  },
  {
   "cell_type": "code",
   "execution_count": 26,
   "metadata": {},
   "outputs": [
    {
     "name": "stdout",
     "output_type": "stream",
     "text": [
      "Shimmy Data Metrics\n",
      "Accuracy Score:  0.33967391304347827\n",
      "              precision    recall  f1-score   support\n",
      "\n",
      "           0       0.25      0.98      0.40       130\n",
      "           1       0.00      0.00      0.00       271\n",
      "           2       0.98      0.36      0.53       335\n",
      "\n",
      "    accuracy                           0.34       736\n",
      "   macro avg       0.41      0.45      0.31       736\n",
      "weighted avg       0.49      0.34      0.31       736\n",
      "\n"
     ]
    },
    {
     "data": {
      "image/png": "[encoded data removed]",
      "text/plain": [
       "<Figure size 640x480 with 2 Axes>"
      ]
     },
     "metadata": {},
     "output_type": "display_data"
    }
   ],
   "source": [
    "print('Shimmy Data Metrics')\n",
    "display_metrics(shimmy_label, shimmy_pred)"
   ]
  },
  {
   "cell_type": "code",
   "execution_count": 27,
   "metadata": {},
   "outputs": [
    {
     "name": "stderr",
     "output_type": "stream",
     "text": [
      "100%|██████████| 1000/1000 [06:02<00:00,  2.76it/s]\n"
     ]
    }
   ],
   "source": [
    "tqdm.pandas()\n",
    "cdf_pred = cdf_df_mini['text'].progress_apply(classify_with_ollama)\n",
    "cdf_pred = cdf_pred.astype(int)"
   ]
  },
  {
   "cell_type": "code",
   "execution_count": 28,
   "metadata": {},
   "outputs": [
    {
     "data": {
      "text/plain": [
       "label\n",
       "0    328\n",
       "1    462\n",
       "2    210\n",
       "Name: count, dtype: int64"
      ]
     },
     "execution_count": 28,
     "metadata": {},
     "output_type": "execute_result"
    }
   ],
   "source": [
    "cdf_df_mini['label'].value_counts().sort_index()"
   ]
  },
  {
   "cell_type": "code",
   "execution_count": 29,
   "metadata": {},
   "outputs": [
    {
     "name": "stdout",
     "output_type": "stream",
     "text": [
      "Shimmy Data Metrics\n",
      "Accuracy Score:  0.565\n",
      "              precision    recall  f1-score   support\n",
      "\n",
      "           0       0.52      0.89      0.66       328\n",
      "           1       0.62      0.46      0.53       462\n",
      "           2       0.61      0.29      0.39       210\n",
      "\n",
      "    accuracy                           0.56      1000\n",
      "   macro avg       0.58      0.55      0.53      1000\n",
      "weighted avg       0.59      0.56      0.54      1000\n",
      "\n"
     ]
    },
    {
     "data": {
      "image/png": "[encoded data removed]",
      "text/plain": [
       "<Figure size 640x480 with 2 Axes>"
      ]
     },
     "metadata": {},
     "output_type": "display_data"
    }
   ],
   "source": [
    "print('Shimmy Data Metrics')\n",
    "display_metrics(cdf_df_mini['label'], cdf_pred)"
   ]
  },
  {
   "cell_type": "code",
   "execution_count": null,
   "metadata": {},
   "outputs": [],
   "source": []
  }
 ],
 "metadata": {
  "kernelspec": {
   "display_name": "venv",
   "language": "python",
   "name": "python3"
  },
  "language_info": {
   "codemirror_mode": {
    "name": "ipython",
    "version": 3
   },
   "file_extension": ".py",
   "mimetype": "text/x-python",
   "name": "python",
   "nbconvert_exporter": "python",
   "pygments_lexer": "ipython3",
   "version": "3.12.4"
  }
 },
 "nbformat": 4,
 "nbformat_minor": 2
}
